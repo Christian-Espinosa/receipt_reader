{
 "cells": [
  {
   "cell_type": "markdown",
   "metadata": {
    "id": "ktFg2jj3jTE6"
   },
   "source": [
    "# ACTIVIDAD DE CLASIFICACIÓN DE TEXTO"
   ]
  },
  {
   "cell_type": "markdown",
   "metadata": {
    "id": "MZ-OuW5DiLJs"
   },
   "source": [
    "En esta actividad vamos a trabajar en clasificar textos. Se recorrerá todo el proceso desde traer el dataset hasta proceder a dicha clasificación. Durante la actividad se llevarán a cabo muchos procesos como la creación de un vocabulario, el uso de embeddings y la creación de modelos.\n",
    "\n",
    "Las cuestiones presentes en esta actividad están basadas en un Notebook creado por François Chollet, uno de los creadores de Keras y autor del libro \"Deep Learning with Python\". \n",
    "\n",
    "En este Notebook se trabaja con el dataset \"Newsgroup20\" que contiene aproximadamente 20000 mensajes que pertenecen a 20 categorías diferentes.\n",
    "\n",
    "El objetivo es entender los conceptos que se trabajan y ser capaz de hacer pequeñas experimentaciones para mejorar el Notebook creado."
   ]
  },
  {
   "cell_type": "markdown",
   "metadata": {
    "id": "hytURWLLjZvT"
   },
   "source": [
    "# Librerías"
   ]
  },
  {
   "cell_type": "code",
   "execution_count": 1,
   "metadata": {
    "id": "DbxRuvOwkzSs"
   },
   "outputs": [],
   "source": [
    "import numpy as np\n",
    "import tensorflow as tf\n",
    "from tensorflow import keras"
   ]
  },
  {
   "cell_type": "markdown",
   "metadata": {
    "id": "PXfYbCflkQYy"
   },
   "source": [
    "# Descarga de Datos"
   ]
  },
  {
   "cell_type": "code",
   "execution_count": 30,
   "metadata": {
    "id": "e-1ZhOf3lB_A"
   },
   "outputs": [],
   "source": [
    "data_path = keras.utils.get_file(\n",
    "    \"news20.tar.gz\",\n",
    "    \"http://www.cs.cmu.edu/afs/cs.cmu.edu/project/theo-20/www/data/news20.tar.gz\",\n",
    "    untar=True,\n",
    ")"
   ]
  },
  {
   "cell_type": "code",
   "execution_count": 31,
   "metadata": {
    "colab": {
     "base_uri": "https://localhost:8080/"
    },
    "id": "l3ygvoWhlCYj",
    "outputId": "e8fcf46c-12fc-4bc3-d112-b273633b4415"
   },
   "outputs": [
    {
     "name": "stdout",
     "output_type": "stream",
     "text": [
      "Number of directories: 20\n",
      "Directory names: ['alt.atheism', 'comp.graphics', 'comp.os.ms-windows.misc', 'comp.sys.ibm.pc.hardware', 'comp.sys.mac.hardware', 'comp.windows.x', 'misc.forsale', 'rec.autos', 'rec.motorcycles', 'rec.sport.baseball', 'rec.sport.hockey', 'sci.crypt', 'sci.electronics', 'sci.med', 'sci.space', 'soc.religion.christian', 'talk.politics.guns', 'talk.politics.mideast', 'talk.politics.misc', 'talk.religion.misc']\n"
     ]
    }
   ],
   "source": [
    "import os\n",
    "import pathlib\n",
    "\n",
    "#Estructura de directorios del dataset\n",
    "data_dir = pathlib.Path(data_path).parent / \"20_newsgroup\"\n",
    "dirnames = os.listdir(data_dir)\n",
    "print(\"Number of directories:\", len(dirnames))\n",
    "print(\"Directory names:\", dirnames)"
   ]
  },
  {
   "cell_type": "code",
   "execution_count": 32,
   "metadata": {},
   "outputs": [
    {
     "name": "stdout",
     "output_type": "stream",
     "text": [
      "C:\\Users\\christian.espinosa\\.keras\\datasets\\20_newsgroup\n"
     ]
    }
   ],
   "source": [
    "print(data_dir)"
   ]
  },
  {
   "cell_type": "code",
   "execution_count": 33,
   "metadata": {
    "colab": {
     "base_uri": "https://localhost:8080/"
    },
    "id": "OG8rjgOFlcaV",
    "outputId": "8ba4fa96-0058-41c9-ed63-5532b7ac04cf"
   },
   "outputs": [
    {
     "name": "stdout",
     "output_type": "stream",
     "text": [
      "Number of files in comp.graphics: 1000\n",
      "Some example filenames: ['37261', '37913', '37914', '37915', '37916']\n"
     ]
    }
   ],
   "source": [
    "#Algunos archivos de la categoria \"com.graphics\"\n",
    "fnames = os.listdir(data_dir / \"comp.graphics\")\n",
    "print(\"Number of files in comp.graphics:\", len(fnames))\n",
    "print(\"Some example filenames:\", fnames[:5])"
   ]
  },
  {
   "cell_type": "code",
   "execution_count": 34,
   "metadata": {
    "colab": {
     "base_uri": "https://localhost:8080/"
    },
    "id": "8ox6s6z9lgps",
    "outputId": "c7a40ef1-6212-481e-e822-a3570f1c6837"
   },
   "outputs": [
    {
     "name": "stdout",
     "output_type": "stream",
     "text": [
      "Xref: cantaloupe.srv.cs.cmu.edu comp.graphics:37261 alt.graphics:519 comp.graphics.animation:2614\n",
      "Path: cantaloupe.srv.cs.cmu.edu!das-news.harvard.edu!ogicse!uwm.edu!zaphod.mps.ohio-state.edu!darwin.sura.net!dtix.dt.navy.mil!oasys!lipman\n",
      "From: lipman@oasys.dt.navy.mil (Robert Lipman)\n",
      "Newsgroups: comp.graphics,alt.graphics,comp.graphics.animation\n",
      "Subject: CALL FOR PRESENTATIONS: Navy SciViz/VR Seminar\n",
      "Message-ID: <32850@oasys.dt.navy.mil>\n",
      "Date: 19 Mar 93 20:10:23 GMT\n",
      "Article-I.D.: oasys.32850\n",
      "Expires: 30 Apr 93 04:00:00 GMT\n",
      "Reply-To: lipman@oasys.dt.navy.mil (Robert Lipman)\n",
      "Followup-To: comp.graphics\n",
      "Distribution: usa\n",
      "Organization: Carderock Division, NSWC, Bethesda, MD\n",
      "Lines: 65\n",
      "\n",
      "\n",
      "\t\t\tCALL FOR PRESENTATIONS\n",
      "\t\n",
      "      NAVY SCIENTIFIC VISUALIZATION AND VIRTUAL REALITY SEMINAR\n",
      "\n",
      "\t\t\tTuesday, June 22, 1993\n",
      "\n",
      "\t    Carderock Division, Naval Surface Warfare Center\n",
      "\t      (formerly the David Taylor Research Center)\n",
      "\t\t\t  Bethesda, Maryland\n",
      "\n",
      "SPONSOR: NESS (Navy Engineering Software System) is sponsoring a \n",
      "one-day Navy Scientific Visualization and Virtual Reality Seminar.  \n",
      "The purpose of the seminar is to present and exchange information for\n",
      "Navy-related scientific visualization and virtual reality programs, \n",
      "research, developments, and applications.\n",
      "\n",
      "PRESENTATIONS: Presentations are solicited on all aspects of \n",
      "Navy-related scientific visualization and virtual reality.  All \n",
      "current work, works-in-progress, and proposed work by Navy \n",
      "organizations will be considered.  Four types of presentations are \n",
      "available.\n",
      "\n",
      "     1. Regular presentation: 20-30 minutes in length\n",
      "     2. Short presentation: 10 minutes in length\n",
      "     3. Video presentation: a stand-alone videotape (author need not \n",
      "\tattend the seminar)\n",
      "     4. Scientific visualization or virtual reality demonstration (BYOH)\n",
      "\n",
      "Accepted presentations will not be published in any proceedings, \n",
      "however, viewgraphs and other materials will be reproduced for \n",
      "seminar attendees.\n",
      "\n",
      "ABSTRACTS: Authors should submit a one page abstract and/or videotape to:\n",
      "\n",
      "     Robert Lipman\n",
      "     Naval Surface Warfare Center, Carderock Division\n",
      "     Code 2042\n",
      "     Bethesda, Maryland  20084-5000\n",
      "\n",
      "     VOICE (301) 227-3618;  FAX (301) 227-5753  \n",
      "     E-MAIL  lipman@oasys.dt.navy.mil\n",
      "\n",
      "Authors should include the type of presentation, their affiliations, \n",
      "addresses, telephone and FAX numbers, and addresses.  Multi-author \n",
      "papers should designate one point of contact.\n",
      "\n",
      "DEADLINES: The abstact submission deadline is April 30, 1993.  \n",
      "Notification of acceptance will be sent by May 14, 1993.  \n",
      "Materials for reproduction must be received by June 1, 1993.\n",
      "\n",
      "For further information, contact Robert Lipman at the above address.\n",
      "\n",
      "\t  PLEASE DISTRIBUTE AS WIDELY AS POSSIBLE, THANKS.\n",
      "\n",
      "\n",
      "\n",
      "\n",
      "Robert Lipman                     | Internet: lipman@oasys.dt.navy.mil\n",
      "David Taylor Model Basin - CDNSWC |       or: lip@ocean.dt.navy.mil\n",
      "Computational Signatures and      | Voicenet: (301) 227-3618\n",
      "   Structures Group, Code 2042    | Factsnet: (301) 227-5753\n",
      "Bethesda, Maryland  20084-5000    | Phishnet: stockings@long.legs\n",
      "\t\t\t\t   \n",
      "The sixth sick shiek's sixth sheep's sick.\n",
      "\n"
     ]
    }
   ],
   "source": [
    "#Ejemplo de un texto de la categoría \"com.graphics\"\n",
    "print(open(data_dir / \"comp.graphics\" / \"37261\").read())"
   ]
  },
  {
   "cell_type": "code",
   "execution_count": 35,
   "metadata": {},
   "outputs": [
    {
     "name": "stdout",
     "output_type": "stream",
     "text": [
      "297.2\n"
     ]
    }
   ],
   "source": [
    "import spacy \n",
    "import en_core_web_sm\n",
    "nlp = en_core_web_sm.load()\n",
    "\n",
    "total_tokens=0\n",
    "for i in (range(15)):\n",
    "    doc = nlp(pathlib.Path(data_dir / \"comp.graphics\" / fnames[i]).read_text(encoding=\"latin-1\"))\n",
    "    doc.__len__()\n",
    "    total_tokens+=doc.__len__()\n",
    "\n",
    "average_tokens = total_tokens/15   \n",
    "\n",
    "print(average_tokens)"
   ]
  },
  {
   "cell_type": "code",
   "execution_count": 8,
   "metadata": {
    "colab": {
     "base_uri": "https://localhost:8080/"
    },
    "id": "vUbbjI8plaG0",
    "outputId": "c538adab-845e-42d5-a091-8e6403e77889"
   },
   "outputs": [
    {
     "name": "stdout",
     "output_type": "stream",
     "text": [
      "Number of files in talk.politics.misc: 1000\n",
      "Some example filenames: ['124146', '176845', '176846', '176847', '176849']\n"
     ]
    }
   ],
   "source": [
    "#Algunos archivos de la categoria \"talk.politics.misc\"\n",
    "fnames = os.listdir(data_dir / \"talk.politics.misc\")\n",
    "print(\"Number of files in talk.politics.misc:\", len(fnames))\n",
    "print(\"Some example filenames:\", fnames[:5])"
   ]
  },
  {
   "cell_type": "code",
   "execution_count": 9,
   "metadata": {
    "colab": {
     "base_uri": "https://localhost:8080/"
    },
    "id": "izZGWhpklCbI",
    "outputId": "a9483dfd-8d78-46bd-863e-c7d992b645d4"
   },
   "outputs": [
    {
     "name": "stdout",
     "output_type": "stream",
     "text": [
      "Xref: cantaloupe.srv.cs.cmu.edu talk.politics.guns:54219 talk.politics.misc:178463\n",
      "Newsgroups: talk.politics.guns,talk.politics.misc\n",
      "Path: cantaloupe.srv.cs.cmu.edu!magnesium.club.cc.cmu.edu!news.sei.cmu.edu!cis.ohio-state.edu!magnus.acs.ohio-state.edu!usenet.ins.cwru.edu!agate!spool.mu.edu!darwin.sura.net!martha.utcc.utk.edu!FRANKENSTEIN.CE.UTK.EDU!VEAL\n",
      "From: VEAL@utkvm1.utk.edu (David Veal)\n",
      "Subject: Re: Proof of the Viability of Gun Control\n",
      "Message-ID: <VEAL.749.735192116@utkvm1.utk.edu>\n",
      "Lines: 21\n",
      "Sender: usenet@martha.utcc.utk.edu (USENET News System)\n",
      "Organization: University of Tennessee Division of Continuing Education\n",
      "References: <1qpbqd$ntl@access.digex.net> <C5otvp.ItL@magpie.linknet.com>\n",
      "Date: Mon, 19 Apr 1993 04:01:56 GMT\n",
      "\n",
      "[alt.drugs and alt.conspiracy removed from newsgroups line.]\n",
      "\n",
      "In article <C5otvp.ItL@magpie.linknet.com> neal@magpie.linknet.com (Neal) writes:\n",
      "\n",
      ">   Once the National Guard has been called into federal service,\n",
      ">it is under the command of the present. Tha National Guard, though\n",
      ">defined as the \"Militia\" in the statutes, is actually a reserve component\n",
      ">of the United State Army, and was formed pursuant to the power of Congress\n",
      ">to raise and support Armies.\n",
      "\n",
      "       That's the really cute thing about saying the 2nd amendment\n",
      "only covers the national guard, because that would mean that it\n",
      "essentially prohibits the federal government from disarming a branch\n",
      "of the federal government.\n",
      "\n",
      "       Sounds like a real limit to federal power to me.\n",
      "------------------------------------------------------------------------\n",
      "David Veal Univ. of Tenn. Div. of Cont. Education Info. Services Group\n",
      "PA146008@utkvm1.utk.edu - \"I still remember the way you laughed, the day\n",
      "your pushed me down the elevator shaft;  I'm beginning to think you don't\n",
      "love me anymore.\" - \"Weird Al\"\n",
      "\n"
     ]
    }
   ],
   "source": [
    "#Ejemplo de un texto de la categoría \"talk.politics.misc\"\n",
    "print(open(data_dir / \"talk.politics.misc\" / \"178463\").read())"
   ]
  },
  {
   "cell_type": "code",
   "execution_count": 10,
   "metadata": {
    "colab": {
     "base_uri": "https://localhost:8080/"
    },
    "id": "33Ay5U6blCd1",
    "outputId": "497818bb-b7b7-4506-967b-c119287a7412"
   },
   "outputs": [
    {
     "name": "stdout",
     "output_type": "stream",
     "text": [
      "Processing alt.atheism, 1000 files found\n",
      "Processing comp.graphics, 1000 files found\n",
      "Processing comp.os.ms-windows.misc, 1000 files found\n",
      "Processing comp.sys.ibm.pc.hardware, 1000 files found\n",
      "Processing comp.sys.mac.hardware, 1000 files found\n",
      "Processing comp.windows.x, 1000 files found\n",
      "Processing misc.forsale, 1000 files found\n",
      "Processing rec.autos, 1000 files found\n",
      "Processing rec.motorcycles, 1000 files found\n",
      "Processing rec.sport.baseball, 1000 files found\n",
      "Processing rec.sport.hockey, 1000 files found\n",
      "Processing sci.crypt, 1000 files found\n",
      "Processing sci.electronics, 1000 files found\n",
      "Processing sci.med, 1000 files found\n",
      "Processing sci.space, 1000 files found\n",
      "Processing soc.religion.christian, 997 files found\n",
      "Processing talk.politics.guns, 1000 files found\n",
      "Processing talk.politics.mideast, 1000 files found\n",
      "Processing talk.politics.misc, 1000 files found\n",
      "Processing talk.religion.misc, 1000 files found\n",
      "Classes: ['alt.atheism', 'comp.graphics', 'comp.os.ms-windows.misc', 'comp.sys.ibm.pc.hardware', 'comp.sys.mac.hardware', 'comp.windows.x', 'misc.forsale', 'rec.autos', 'rec.motorcycles', 'rec.sport.baseball', 'rec.sport.hockey', 'sci.crypt', 'sci.electronics', 'sci.med', 'sci.space', 'soc.religion.christian', 'talk.politics.guns', 'talk.politics.mideast', 'talk.politics.misc', 'talk.religion.misc']\n",
      "Number of samples: 19997\n"
     ]
    }
   ],
   "source": [
    "samples = []\n",
    "labels = []\n",
    "class_names = []\n",
    "class_index = 0\n",
    "for dirname in sorted(os.listdir(data_dir)):\n",
    "    class_names.append(dirname)\n",
    "    dirpath = data_dir / dirname\n",
    "    fnames = os.listdir(dirpath)\n",
    "    print(\"Processing %s, %d files found\" % (dirname, len(fnames)))\n",
    "    for fname in fnames:\n",
    "        fpath = dirpath / fname\n",
    "        f = open(fpath, encoding=\"latin-1\")\n",
    "        content = f.read()\n",
    "        lines = content.split(\"\\n\")\n",
    "        lines = lines[10:]\n",
    "        content = \"\\n\".join(lines)\n",
    "        samples.append(content)\n",
    "        labels.append(class_index)\n",
    "    class_index += 1\n",
    "\n",
    "print(\"Classes:\", class_names)\n",
    "print(\"Number of samples:\", len(samples))"
   ]
  },
  {
   "cell_type": "markdown",
   "metadata": {
    "id": "n2pmvE6gMcxT"
   },
   "source": [
    "# Mezclando los datos para separarlos en Traning y Test"
   ]
  },
  {
   "cell_type": "code",
   "execution_count": 11,
   "metadata": {
    "id": "DYX7x-k_lCgZ"
   },
   "outputs": [],
   "source": [
    "# Shuffle the data\n",
    "seed = 1337\n",
    "rng = np.random.RandomState(seed)\n",
    "rng.shuffle(samples)\n",
    "rng = np.random.RandomState(seed)\n",
    "rng.shuffle(labels)\n",
    "\n",
    "# Extract a training & validation split\n",
    "validation_split = 0.2\n",
    "num_validation_samples = int(validation_split * len(samples))\n",
    "train_samples = samples[:-num_validation_samples]\n",
    "val_samples = samples[-num_validation_samples:]\n",
    "train_labels = labels[:-num_validation_samples]\n",
    "val_labels = labels[-num_validation_samples:]"
   ]
  },
  {
   "cell_type": "code",
   "execution_count": 36,
   "metadata": {},
   "outputs": [
    {
     "name": "stdout",
     "output_type": "stream",
     "text": [
      "Ejemplo de train_samples:\n",
      "\n",
      "In article <1993Apr20.032017.5783@wuecl.wustl.edu> jca2@cec1.wustl.edu (Joseph Charles Achkar) writes:\n",
      "> It was nice to see ESPN show game 1 between the Wings and Leafs since\n",
      ">the Cubs and Astros got rained out. Instead of showing another baseball\n",
      ">game, they decided on the Stanley Cup Playoffs. A classy move by ESPN.\n",
      "\n",
      "They tried their best not to show it, believe me. I'm surprised they\n",
      "couldn't find a sprint car race (mini cars through pigpens, indeed!)\n",
      "on short notice.\n",
      "\n",
      "George\n",
      "-- \n",
      "George Ferguson                 ARPA: ferguson@cs.rochester.edu\n",
      "Dept. of Computer Science       UUCP: rutgers!rochester!ferguson\n",
      "University of Rochester         VOX:  (716) 275-2527\n",
      "Rochester  NY  14627-0226       FAX:  (716) 461-2018\n",
      "\n",
      "\n",
      "Ejemplo de val_samples:\n",
      "Lines: 30\n",
      "\n",
      "In article <1993Apr22.153528.10877@ra.royalroads.ca>,\n",
      "mlee@post.RoyalRoads.ca (Malcolm Lee) wrote:\n",
      "> Eternal damnation is the consequence of the choice one makes in rejecting\n",
      "> God.  If you choose to jump off a cliff, you can hardly blame God for you \n",
      "> going *splat* at the bottom.  He knows that if you choose to jump, that \n",
      "> you will die but He will not prevent you from making that choice.  In fact,\n",
      "> He sent His Son to stand on the edge of the cliff and tell everyone of what\n",
      "> lies below.  To prove that point, Jesus took that plunge Himself but He being\n",
      "> God was able to rise up again.  I have seen the example of Christ and have \n",
      "> chosen not to jump and I'm trying to tell you not to jump or else you'll \n",
      "> go *splat*.\n",
      ">  \n",
      "> You don't have to listen to me and I won't stop you if you decide to jump.\n",
      "> I only ask that you check it out before taking the plunge.  You owe it to\n",
      "> yourself.  I don't like seeing anyone go *splat*.\n",
      "\n",
      "I'm for the moment interested in this notion of the 'leap of faith'\n",
      "established by Kierkegaard. It clearly points out a possible solution\n",
      "to transcendental values. What I don't understand is that it also\n",
      "clearly shows the existentialism system where any leap to any\n",
      "transcendental direction is equal. \n",
      "\n",
      "In other words I might not jump off the cliff mentioned above,\n",
      "but at the same time I will decide to what direction I will go.\n",
      "Actually I will do it just now.\n",
      "\n",
      "Cheers,\n",
      "Kent\n",
      "---\n",
      "sandvik@newton.apple.com. ALink: KSAND -- Private activities on the net.\n",
      "\n",
      "\n",
      "Ejemplo de train_labels:\n",
      "10\n",
      "\n",
      "Ejemplo de val_labels:\n",
      "19\n",
      "\n",
      "Nombre de la clase de train_labels[0]:\n",
      "rec.sport.hockey\n",
      "\n",
      "Nombre de la clase de val_labels[0]:\n",
      "talk.religion.misc\n"
     ]
    }
   ],
   "source": [
    "print(\"Ejemplo de train_samples:\")\n",
    "print(train_samples[0])\n",
    "\n",
    "print(\"\\nEjemplo de val_samples:\")\n",
    "print(val_samples[0])\n",
    "\n",
    "print(\"\\nEjemplo de train_labels:\")\n",
    "print(train_labels[0])\n",
    "\n",
    "print(\"\\nEjemplo de val_labels:\")\n",
    "print(val_labels[0])\n",
    "\n",
    "print(\"\\nNombre de la clase de train_labels[0]:\")\n",
    "print(class_names[train_labels[0]])\n",
    "\n",
    "print(\"\\nNombre de la clase de val_labels[0]:\")\n",
    "print(class_names[val_labels[0]])\n"
   ]
  },
  {
   "cell_type": "code",
   "execution_count": 12,
   "metadata": {},
   "outputs": [
    {
     "name": "stdout",
     "output_type": "stream",
     "text": [
      "[\"\\nIn article <1993Apr20.032017.5783@wuecl.wustl.edu> jca2@cec1.wustl.edu (Joseph Charles Achkar) writes:\\n> It was nice to see ESPN show game 1 between the Wings and Leafs since\\n>the Cubs and Astros got rained out. Instead of showing another baseball\\n>game, they decided on the Stanley Cup Playoffs. A classy move by ESPN.\\n\\nThey tried their best not to show it, believe me. I'm surprised they\\ncouldn't find a sprint car race (mini cars through pigpens, indeed!)\\non short notice.\\n\\nGeorge\\n-- \\nGeorge Ferguson                 ARPA: ferguson@cs.rochester.edu\\nDept. of Computer Science       UUCP: rutgers!rochester!ferguson\\nUniversity of Rochester         VOX:  (716) 275-2527\\nRochester  NY  14627-0226       FAX:  (716) 461-2018\\n\", \"Approved: christian@aramis.rutgers.edu\\n\\nMy girlfriend is a smoker. She has been addicted to it for quite some time.\\nShe has been tried a couple of times, but then always get back to it. Her \\nbackground is non-Christian, but she's interested in Christianity. I'm a\\nChristian and non-smoker.\\n\\nI would like to collect any personal stories from Christians who managed to \\nquit. I hope that this will encourage her to keep on trying. If anybody ever \\nhad a similar problem or knows a good book on it, pls reply by email. \\n\\nI appreciate any kinds of helps. Thanks a lot.\\n\\n=======================================================================\\nSimon Darjadi Wibowo                    Telp : (65)7726863\\nDept. of EE, Nat'l Univ. Of S'pore      Fax  : (65)7773117\\nSingapore 0511                          Internet : eledw@nuscc.nus.sg\\n\", '\\nIn article <C5otox.BJI@dscomsa.desy.de> hallam@dscomsa.desy.de (Phill Hallam-Baker) writes:\\n>\\n>In article <VEAL.740.735074621@utkvm1.utk.edu>, VEAL@utkvm1.utk.edu (David Veal) writes:\\n>\\n>|>In article <C5n4wH.Izv@dscomsa.desy.de> hallam@dscomsa.desy.de (Phill Hallam-Baker) writes:\\n>|>>\\n>|>       Or are they simply propogranda?  We can\\'t know what Phill *really*\\n>|>means because he\\'s obviously using arguments designed to convince.\\n>\\n>I make no secret of what I am up to, I have stated explicitly in posts\\n>that I am a political propagandist on numerous occasions. Anyone posting\\n>to this group who is not probably has the wrong group.\\n>\\n>For example I have on numerous occasions stated quite clearly that I\\n>beleive that certain factions of the gun lobby are the worst possible\\n>advocates of their cause and I am prepared to do anything in my power\\n>to provide them with a platform because they can convince people far\\n>better than I could hope that many people with a fixation on lethal\\n>weapons are dangerous and derranged. \\n\\n       If you happen to know a political position which does not\\nhave people advocating it who do more harm than good, please point it\\nout.\\n       \\n>Some people have even accused me of inventing such advocates purely \\n>for the purpose of having them trash a set of political views. In \\n>fact this would be a futile tactic because I could never hope to\\n>invent a character as dangerous as sybok.athena.edu, a man who I\\n>quite seriously believe to be mentaly ill and a potential psychopath.\\n>Unfortunately the local sherifs office have informed me that they\\n>are unable to act untill he attacks someone.\\n\\n       One of the advantages and draw-backs of requiring proof\\non the part of the government before they may take action against\\ncitizens.  (and part of the reason some of us believe weapons should\\nbe available.)\\n\\n>So if you were to ask me what is the point that I am trying to make\\n>from this current argument on the absolute sanctity of the US \\n>constitution what would I answer?\\n\\n       We are not arguing the absolute sanctity of the U.S.\\nConstitution.  In fact, the fillibuster we\\'re talking about isn\\'t\\n*in* the Constitution.  I objected to your suggestion that the Senate\\nwasn\\'t intended to exercise the power it was clearly given.\\n\\n>Firstly I see that the current US political scene like the UK political\\n>scene has become tied to special interests. Rather than chase the\\n>convenient caricatures put about by the media and polititians themselves\\n>for this - Gay rights cmapaigners, environmentalists, zionists (i.e.\\n>Jews), \"foreign lobbyists\" - whatever voting power they have etc. I\\n>sugest that you look at who is really benefiting. The inevitable conclusion\\n>is that it is the major corporations owned by the ultra-wealthy that\\n>have benefited. Regan and Bush created what can only be described as a\\n>welfare state for the rich. \\n\\n       I\\'ll point out again that Reagan only had a Republican Majority\\nin the Senate during his first term, and his coalition in the House\\ncame apart at about the same time.  Bush never had any real support in\\nCongress.\\n\\n       The real point is that everybody, *everywhere* got their pork,\\nfrom the big corporations to the guy I saw last night leaving a\\nconvenience store with an armful of junk-food he\\'d bought with\\nfood stamps.  (He spent more in food stamps on junk than I *make* in a week\\nand I\\'m not on government assitance.)\\n\\n>Money was diverted from programs addressing\\n>social needs and poured into the weapons industry in the form of cost\\n>plus profits contracts. \\n\\n       Lessee, let\\'s pull out the old Almanac.\\n\\n       In 1980, total U.S. government budget outlays were 590.9 billion\\ndollars.  In 1992 (est) they were 1.4754 trillion dollars, an increase of\\napprox. 884 billion dollars.\\n\\n       In 1980, National Defense cost 133.9 billion dollars.  In\\n192 it was 307 billion dollars, and increase of 174 billion dollars.\\nThat leaves an increase of 710 billion dollars unaccounted\\nfor.  (This represented an increase of 230%)\\n\\n       In 1980, Income Security (which includes retirement programs,\\nHousing Assitance, and unemployment benefits, and I believe welfare)\\ncost 86.5 billion dollars.  In 1992 it was 198 billion dollars, or\\nmore than national defense started.  (This represented an increase\\nof 230%)\\n\\n       In 1980, the Federal Government spent 32 billion dollars on\\nMedicare.  In 1992 they spent 118 billion dollars.  (an increase of\\n368%)\\n\\n       In 1980, the Feds spent 9 billion dollars on housing\\ncredits and subsidies of that like.  In 1992 it was 87 billion.\\n\\n       In 1980, Health care services and research was 23 billion\\ndollars.  In 1992, it was 94 billion dollars.\\n\\n       Agriculture, up 9 billion to 17 billion.\\n\\n       Science, up 11 billion to 16 billion.\\n\\n       Resource conservation up 7 billion to 20 billion.\\n\\n       Education up 14 billion to 45 billion.\\n\\n       Veteran benefits up 12 billion to 33 billion.\\n\\n       Trasnportation up 13 billion to 34 billion.\\n     \\n       About the only things I see which was seriously decreased was under \\nthe Energy category, primarily under \"Supply,\" and \"Community Development,\"\\nin the area of \"disaster relief,\" and between the two of them\\nrepresent a loss of less than 11 billion dollars.\\n\\n       Where *was* this huge diversion?\\n\\n>In order to rectify this situation there must\\n>be constitutional revision.\\n\\n       Not that\\'s a stretch.  If the current government was pushed by\\nthe President to create this mess, wouldn\\'t one expect it to begin to\\nequalize once the pressure is gone?\\n\\n>Secondly the form of this revision must take account of the changed \\n>circumsatnces of the role of the Federal government. \\n\\n       Only assuming that the new role is a positive role we want\\nto continue. I see very little positive about it.\\n\\n>The constitution\\n>cannot be used to frustrate the democratic process. \\n\\n       The Constitution was *designed* to frustrate the democratic\\nprocess, so that the voters could be absolutely sure they were getting\\nwhat they wanted by the time it happened.  Nor do I see putting the\\nbrakes on the \"democratic process\" an inherently bad thing.  Califronia\\'s\\nriding the edge and every time they pull their ballot initiative nonsense\\nit gets worse.\\n\\n>If the peoplr want\\n>to have welfare spending by the federal government they will have\\n>it.\\n\\n       Sometimes, or perhaps most of the time, the people should be\\ntold, \"no,\" and pointed to their local government.       \\n\\n>Attempting to prevent this through constitutional trickery only\\n>leads to the constitution being brought into disrepute. \\n\\n       Phill, would you do me the very great favor of repeating that\\nin talk.politics.guns?\\n\\n>Methods will\\n>always be found to bypass such provisions and once the government gets\\n>used to bypassing those provisions they will bypass the others up to \\n>the first ammendment. \\n\\n       Cute.  We can eliminate violations of the law by eliminating\\nthe law.\\n\\n>This is a major reason why the right to own \\n>guns should be excluded, the implication that this right is equal to\\n>the right to free speech is dangerous. \\n\\n       Free speech alone is dangerous, Phill.\\n\\n>People know that mass ownership\\n>of lethal weapons causes thousands of murders a year, the dangerous\\n>conclusion they may reach is that the first ammendment may also be\\n>the same dangerous mistake. \\n\\n       OK, Phill.  All you gotta show me is a clear pattern of\\n*reduction* in homicide rates across several countries and that\\'ll\\nbe it.  (Not current, mind, you, reduction.)\\n\\n>Note however that this is not the slippery\\n>slope argument. It is because the right freedom of speech has been\\n>chained to the privilege to own weaponry that the danger arises. The\\n>advocates of this pivilege must not be allowed to chain freedom of\\n>speech to their cause such that if they fall freedom of speech falls\\n>as well. Such actions are not the actions of people genuinely interested\\n>in freedom.\\n\\n\\n        Who\\'s chaining anything to freedom of speech?  By *calling*\\nit a freedom?  \\n\\n>Thirdly and most importantly I want to discover a mechanism wherby I can\\n>engender intellectual debate as opposed to totemic debate. I consider\\n>the grave threat to civilisation to be the loss of the ability to\\n>reason about the political debate at anything other than the superficial\\n>level. The objection I raise to your basing your case entirely on the\\n>assertion of the supremacy of the US constitution is that the currency\\n>of your argument is limited to the currency of the totem upon which it\\n>is based. The danger of totems is that they can be reinterpreted in\\n>different ways by different people. \\n\\n       Phill, you\\'re a master of subtly changing the subject.  I haven\\'t\\n*based* my argument against raw democracy on the Constitution.  I\\'ve\\ntried to explain why it isn\\'t a good idea.  The only time I\\'ve referred\\nto the Constitution is to point out it doesn\\'t contain the restrictions\\non the veto and the Senate you appear to believe were \"meant,\" but\\njust didn\\'t make it in there.\\n     \\n       The Constitution doesn\\'t *contain* the 41% fillibuster rule.\\nI only believe that the rule is a good idea.  You cn\\'t dismiss that\\nas venerating the Constitution because it isn\\'t *in* the Constitution.\\n------------------------------------------------------------------------\\nDavid Veal Univ. of Tenn. Div. of Cont. Education Info. Services Group\\nPA146008@utkvm1.utk.edu - \"I still remember the way you laughed, the day\\nyour pushed me down the elevator shaft;  I\\'m beginning to think you don\\'t\\nlove me anymore.\" - \"Weird Al\"\\n']\n"
     ]
    }
   ],
   "source": [
    "print(train_samples[:3])"
   ]
  },
  {
   "cell_type": "code",
   "execution_count": 13,
   "metadata": {},
   "outputs": [
    {
     "name": "stdout",
     "output_type": "stream",
     "text": [
      "[\"Lines: 30\\n\\nIn article <1993Apr22.153528.10877@ra.royalroads.ca>,\\nmlee@post.RoyalRoads.ca (Malcolm Lee) wrote:\\n> Eternal damnation is the consequence of the choice one makes in rejecting\\n> God.  If you choose to jump off a cliff, you can hardly blame God for you \\n> going *splat* at the bottom.  He knows that if you choose to jump, that \\n> you will die but He will not prevent you from making that choice.  In fact,\\n> He sent His Son to stand on the edge of the cliff and tell everyone of what\\n> lies below.  To prove that point, Jesus took that plunge Himself but He being\\n> God was able to rise up again.  I have seen the example of Christ and have \\n> chosen not to jump and I'm trying to tell you not to jump or else you'll \\n> go *splat*.\\n>  \\n> You don't have to listen to me and I won't stop you if you decide to jump.\\n> I only ask that you check it out before taking the plunge.  You owe it to\\n> yourself.  I don't like seeing anyone go *splat*.\\n\\nI'm for the moment interested in this notion of the 'leap of faith'\\nestablished by Kierkegaard. It clearly points out a possible solution\\nto transcendental values. What I don't understand is that it also\\nclearly shows the existentialism system where any leap to any\\ntranscendental direction is equal. \\n\\nIn other words I might not jump off the cliff mentioned above,\\nbut at the same time I will decide to what direction I will go.\\nActually I will do it just now.\\n\\nCheers,\\nKent\\n---\\nsandvik@newton.apple.com. ALink: KSAND -- Private activities on the net.\\n\"]\n"
     ]
    }
   ],
   "source": [
    "print(val_samples[:1])"
   ]
  },
  {
   "cell_type": "code",
   "execution_count": 14,
   "metadata": {},
   "outputs": [
    {
     "name": "stdout",
     "output_type": "stream",
     "text": [
      "[10]\n"
     ]
    }
   ],
   "source": [
    "print(train_labels[:1])"
   ]
  },
  {
   "cell_type": "code",
   "execution_count": 15,
   "metadata": {},
   "outputs": [
    {
     "name": "stdout",
     "output_type": "stream",
     "text": [
      "[19]\n"
     ]
    }
   ],
   "source": [
    "print(val_labels[:1])"
   ]
  },
  {
   "cell_type": "markdown",
   "metadata": {
    "id": "IktOtKfpNx8E"
   },
   "source": [
    "# Tokenización de las palabras con TextVectorization "
   ]
  },
  {
   "cell_type": "code",
   "execution_count": 16,
   "metadata": {
    "id": "QjHgQPX8lCjO"
   },
   "outputs": [],
   "source": [
    "from tensorflow.keras.layers import TextVectorization\n",
    "vectorizer = TextVectorization(max_tokens=20000, output_sequence_length=200)\n",
    "text_ds = tf.data.Dataset.from_tensor_slices(train_samples).batch(128)\n",
    "vectorizer.adapt(text_ds)"
   ]
  },
  {
   "cell_type": "code",
   "execution_count": 17,
   "metadata": {
    "colab": {
     "base_uri": "https://localhost:8080/"
    },
    "id": "vIWC37s5smZ4",
    "outputId": "8ff450dd-7dc8-466b-cb7f-5d53e8834f42"
   },
   "outputs": [
    {
     "data": {
      "text/plain": [
       "['', '[UNK]', 'the', 'to', 'of']"
      ]
     },
     "execution_count": 17,
     "metadata": {},
     "output_type": "execute_result"
    }
   ],
   "source": [
    "vectorizer.get_vocabulary()[:5]"
   ]
  },
  {
   "cell_type": "code",
   "execution_count": 18,
   "metadata": {
    "colab": {
     "base_uri": "https://localhost:8080/"
    },
    "id": "vit8TPqTvmwS",
    "outputId": "fe7fb758-3b10-41c1-a45e-5d332fa75acb"
   },
   "outputs": [
    {
     "data": {
      "text/plain": [
       "20000"
      ]
     },
     "execution_count": 18,
     "metadata": {},
     "output_type": "execute_result"
    }
   ],
   "source": [
    "len(vectorizer.get_vocabulary())"
   ]
  },
  {
   "cell_type": "markdown",
   "metadata": {
    "id": "2O-FXA9wPVkg"
   },
   "source": [
    "# Viendo la salida de Vectorizer"
   ]
  },
  {
   "cell_type": "code",
   "execution_count": 19,
   "metadata": {
    "colab": {
     "base_uri": "https://localhost:8080/"
    },
    "id": "rseIF0fLmyJ0",
    "outputId": "a368a7e9-da0f-4a79-a7e5-33488951680c"
   },
   "outputs": [
    {
     "data": {
      "text/plain": [
       "array([   2, 3457, 1682,   15,    2, 5776], dtype=int64)"
      ]
     },
     "execution_count": 19,
     "metadata": {},
     "output_type": "execute_result"
    }
   ],
   "source": [
    "output = vectorizer([[\"the cat sat on the mat\"]])\n",
    "output.numpy()[0, :6]"
   ]
  },
  {
   "cell_type": "code",
   "execution_count": 20,
   "metadata": {
    "colab": {
     "base_uri": "https://localhost:8080/"
    },
    "id": "Wsr4AQtBFArV",
    "outputId": "09267722-32fe-4833-cd2d-65c67938e3a7"
   },
   "outputs": [
    {
     "data": {
      "text/plain": [
       "<tf.Tensor: shape=(1, 200), dtype=int64, numpy=\n",
       "array([[   2, 3457, 1682,   15,    2, 5776,    0,    0,    0,    0,    0,\n",
       "           0,    0,    0,    0,    0,    0,    0,    0,    0,    0,    0,\n",
       "           0,    0,    0,    0,    0,    0,    0,    0,    0,    0,    0,\n",
       "           0,    0,    0,    0,    0,    0,    0,    0,    0,    0,    0,\n",
       "           0,    0,    0,    0,    0,    0,    0,    0,    0,    0,    0,\n",
       "           0,    0,    0,    0,    0,    0,    0,    0,    0,    0,    0,\n",
       "           0,    0,    0,    0,    0,    0,    0,    0,    0,    0,    0,\n",
       "           0,    0,    0,    0,    0,    0,    0,    0,    0,    0,    0,\n",
       "           0,    0,    0,    0,    0,    0,    0,    0,    0,    0,    0,\n",
       "           0,    0,    0,    0,    0,    0,    0,    0,    0,    0,    0,\n",
       "           0,    0,    0,    0,    0,    0,    0,    0,    0,    0,    0,\n",
       "           0,    0,    0,    0,    0,    0,    0,    0,    0,    0,    0,\n",
       "           0,    0,    0,    0,    0,    0,    0,    0,    0,    0,    0,\n",
       "           0,    0,    0,    0,    0,    0,    0,    0,    0,    0,    0,\n",
       "           0,    0,    0,    0,    0,    0,    0,    0,    0,    0,    0,\n",
       "           0,    0,    0,    0,    0,    0,    0,    0,    0,    0,    0,\n",
       "           0,    0,    0,    0,    0,    0,    0,    0,    0,    0,    0,\n",
       "           0,    0,    0,    0,    0,    0,    0,    0,    0,    0,    0,\n",
       "           0,    0]], dtype=int64)>"
      ]
     },
     "execution_count": 20,
     "metadata": {},
     "output_type": "execute_result"
    }
   ],
   "source": [
    "output"
   ]
  },
  {
   "cell_type": "code",
   "execution_count": 21,
   "metadata": {
    "id": "SL5ag8UamzwL"
   },
   "outputs": [],
   "source": [
    "voc = vectorizer.get_vocabulary()\n",
    "word_index = dict(zip(voc, range(len(voc))))"
   ]
  },
  {
   "cell_type": "code",
   "execution_count": 22,
   "metadata": {
    "colab": {
     "base_uri": "https://localhost:8080/"
    },
    "id": "08v8SKcsn3lf",
    "outputId": "0e9272d0-bec1-4326-90fe-4daea19f7f65"
   },
   "outputs": [
    {
     "data": {
      "text/plain": [
       "[2, 3457, 1682, 15, 2, 5776]"
      ]
     },
     "execution_count": 22,
     "metadata": {},
     "output_type": "execute_result"
    }
   ],
   "source": [
    "test = [\"the\", \"cat\", \"sat\", \"on\", \"the\", \"mat\"]\n",
    "[word_index[w] for w in test]"
   ]
  },
  {
   "cell_type": "markdown",
   "metadata": {
    "id": "1eBhadrvOTNZ"
   },
   "source": [
    "# Tokenización de los datos de entrenamiento y validación"
   ]
  },
  {
   "cell_type": "code",
   "execution_count": 23,
   "metadata": {
    "id": "W26LUr2dKTOj"
   },
   "outputs": [],
   "source": [
    "x_train = vectorizer(np.array([[s] for s in train_samples])).numpy()\n",
    "x_val = vectorizer(np.array([[s] for s in val_samples])).numpy()\n",
    "\n",
    "y_train = np.array(train_labels)\n",
    "y_val = np.array(val_labels)"
   ]
  },
  {
   "cell_type": "markdown",
   "metadata": {
    "id": "q3QVIb84Olda"
   },
   "source": [
    "# Creación y entrenamiento del modelo"
   ]
  },
  {
   "cell_type": "code",
   "execution_count": 24,
   "metadata": {
    "id": "B9VxI-i69cdB"
   },
   "outputs": [
    {
     "name": "stdout",
     "output_type": "stream",
     "text": [
      "Epoch 1/10\n"
     ]
    },
    {
     "name": "stderr",
     "output_type": "stream",
     "text": [
      "c:\\Users\\christian.espinosa\\Documents\\UNIR\\TFM\\receipt_reader\\env\\Lib\\site-packages\\keras\\src\\layers\\core\\embedding.py:90: UserWarning: Argument `input_length` is deprecated. Just remove it.\n",
      "  warnings.warn(\n"
     ]
    },
    {
     "name": "stdout",
     "output_type": "stream",
     "text": [
      "\u001b[1m500/500\u001b[0m \u001b[32m━━━━━━━━━━━━━━━━━━━━\u001b[0m\u001b[37m\u001b[0m \u001b[1m9s\u001b[0m 15ms/step - accuracy: 0.1273 - loss: 2.8337 - val_accuracy: 0.3828 - val_loss: 2.0247\n",
      "Epoch 2/10\n",
      "\u001b[1m500/500\u001b[0m \u001b[32m━━━━━━━━━━━━━━━━━━━━\u001b[0m\u001b[37m\u001b[0m \u001b[1m8s\u001b[0m 15ms/step - accuracy: 0.4847 - loss: 1.7605 - val_accuracy: 0.6272 - val_loss: 1.3037\n",
      "Epoch 3/10\n",
      "\u001b[1m500/500\u001b[0m \u001b[32m━━━━━━━━━━━━━━━━━━━━\u001b[0m\u001b[37m\u001b[0m \u001b[1m7s\u001b[0m 15ms/step - accuracy: 0.6954 - loss: 1.0882 - val_accuracy: 0.7254 - val_loss: 0.9789\n",
      "Epoch 4/10\n",
      "\u001b[1m500/500\u001b[0m \u001b[32m━━━━━━━━━━━━━━━━━━━━\u001b[0m\u001b[37m\u001b[0m \u001b[1m7s\u001b[0m 14ms/step - accuracy: 0.7813 - loss: 0.7725 - val_accuracy: 0.7697 - val_loss: 0.8075\n",
      "Epoch 5/10\n",
      "\u001b[1m500/500\u001b[0m \u001b[32m━━━━━━━━━━━━━━━━━━━━\u001b[0m\u001b[37m\u001b[0m \u001b[1m7s\u001b[0m 14ms/step - accuracy: 0.8445 - loss: 0.5704 - val_accuracy: 0.7749 - val_loss: 0.7491\n",
      "Epoch 6/10\n",
      "\u001b[1m500/500\u001b[0m \u001b[32m━━━━━━━━━━━━━━━━━━━━\u001b[0m\u001b[37m\u001b[0m \u001b[1m7s\u001b[0m 15ms/step - accuracy: 0.8691 - loss: 0.4697 - val_accuracy: 0.7542 - val_loss: 0.7853\n",
      "Epoch 7/10\n",
      "\u001b[1m500/500\u001b[0m \u001b[32m━━━━━━━━━━━━━━━━━━━━\u001b[0m\u001b[37m\u001b[0m \u001b[1m8s\u001b[0m 15ms/step - accuracy: 0.8818 - loss: 0.4065 - val_accuracy: 0.7664 - val_loss: 0.7306\n",
      "Epoch 8/10\n",
      "\u001b[1m500/500\u001b[0m \u001b[32m━━━━━━━━━━━━━━━━━━━━\u001b[0m\u001b[37m\u001b[0m \u001b[1m8s\u001b[0m 16ms/step - accuracy: 0.9020 - loss: 0.3322 - val_accuracy: 0.7927 - val_loss: 0.6884\n",
      "Epoch 9/10\n",
      "\u001b[1m500/500\u001b[0m \u001b[32m━━━━━━━━━━━━━━━━━━━━\u001b[0m\u001b[37m\u001b[0m \u001b[1m8s\u001b[0m 15ms/step - accuracy: 0.9106 - loss: 0.2969 - val_accuracy: 0.7874 - val_loss: 0.7004\n",
      "Epoch 10/10\n",
      "\u001b[1m500/500\u001b[0m \u001b[32m━━━━━━━━━━━━━━━━━━━━\u001b[0m\u001b[37m\u001b[0m \u001b[1m7s\u001b[0m 15ms/step - accuracy: 0.9212 - loss: 0.2459 - val_accuracy: 0.7832 - val_loss: 0.7282\n"
     ]
    },
    {
     "data": {
      "text/plain": [
       "<keras.src.callbacks.history.History at 0x2354b5fe290>"
      ]
     },
     "execution_count": 24,
     "metadata": {},
     "output_type": "execute_result"
    }
   ],
   "source": [
    "import tensorflow as tf\n",
    "from tensorflow import keras\n",
    "from tensorflow.keras import layers\n",
    "\n",
    "\n",
    "def create_model(vocab_size, sequence_length, num_classes):\n",
    "    model = keras.Sequential()\n",
    "    model.add(layers.Embedding(input_dim=vocab_size, output_dim=128, input_length=sequence_length))\n",
    "    model.add(layers.GlobalAveragePooling1D())\n",
    "    model.add(layers.Dense(64, activation='relu'))\n",
    "    model.add(layers.Dense(num_classes, activation='softmax'))\n",
    "    return model\n",
    "\n",
    "\n",
    "vocab_size = 20000  \n",
    "sequence_length = 200  \n",
    "num_classes = len(set(train_labels))  \n",
    "\n",
    "\n",
    "model = create_model(vocab_size, sequence_length, num_classes)\n",
    "model.compile(optimizer='adam', loss='sparse_categorical_crossentropy', metrics=['accuracy'])\n",
    "\n",
    "\n",
    "model.fit(x_train, y_train, epochs=10, validation_data=(x_val, y_val))\n",
    "\n",
    "\n"
   ]
  },
  {
   "cell_type": "markdown",
   "metadata": {
    "id": "v4x_4eXJVrnX"
   },
   "source": [
    "# Evaluación"
   ]
  },
  {
   "cell_type": "code",
   "execution_count": 25,
   "metadata": {
    "colab": {
     "base_uri": "https://localhost:8080/",
     "height": 52
    },
    "id": "fgg7KnoioNYc",
    "outputId": "78d936fe-0c57-461b-9355-0cd2774e7726"
   },
   "outputs": [
    {
     "name": "stdout",
     "output_type": "stream",
     "text": [
      "\u001b[1m1/1\u001b[0m \u001b[32m━━━━━━━━━━━━━━━━━━━━\u001b[0m\u001b[37m\u001b[0m \u001b[1m0s\u001b[0m 248ms/step\n"
     ]
    },
    {
     "data": {
      "text/plain": [
       "'comp.graphics'"
      ]
     },
     "execution_count": 25,
     "metadata": {},
     "output_type": "execute_result"
    }
   ],
   "source": [
    "string_input = keras.Input(shape=(1,), dtype=\"string\")\n",
    "x = vectorizer(string_input)\n",
    "preds = model(x)\n",
    "end_to_end_model = keras.Model(string_input, preds)\n",
    "\n",
    "probabilities = end_to_end_model.predict(tf.convert_to_tensor([[\"this message is about computer graphics and 3D modeling\"]], dtype=tf.string))\n",
    "class_names[np.argmax(probabilities[0])]"
   ]
  },
  {
   "cell_type": "code",
   "execution_count": 26,
   "metadata": {
    "colab": {
     "base_uri": "https://localhost:8080/",
     "height": 52
    },
    "id": "R-EXfK6qoSAd",
    "outputId": "f3060f75-8ed6-4eb3-aaad-e9d18b80ab9a"
   },
   "outputs": [
    {
     "name": "stdout",
     "output_type": "stream",
     "text": [
      "\u001b[1m1/1\u001b[0m \u001b[32m━━━━━━━━━━━━━━━━━━━━\u001b[0m\u001b[37m\u001b[0m \u001b[1m0s\u001b[0m 32ms/step\n"
     ]
    },
    {
     "data": {
      "text/plain": [
       "'talk.politics.guns'"
      ]
     },
     "execution_count": 26,
     "metadata": {},
     "output_type": "execute_result"
    }
   ],
   "source": [
    "probabilities = end_to_end_model.predict(tf.convert_to_tensor([[\"politics and federal courts law that people understand with politician and elects congressman\"]], dtype=tf.string))\n",
    "class_names[np.argmax(probabilities[0])]"
   ]
  },
  {
   "cell_type": "code",
   "execution_count": 27,
   "metadata": {
    "colab": {
     "base_uri": "https://localhost:8080/",
     "height": 52
    },
    "id": "QByfYDv4rGqv",
    "outputId": "a139439d-56e4-447b-baa6-7b2a6be53c08"
   },
   "outputs": [
    {
     "name": "stdout",
     "output_type": "stream",
     "text": [
      "\u001b[1m1/1\u001b[0m \u001b[32m━━━━━━━━━━━━━━━━━━━━\u001b[0m\u001b[37m\u001b[0m \u001b[1m0s\u001b[0m 15ms/step\n"
     ]
    },
    {
     "data": {
      "text/plain": [
       "'comp.sys.mac.hardware'"
      ]
     },
     "execution_count": 27,
     "metadata": {},
     "output_type": "execute_result"
    }
   ],
   "source": [
    "probabilities = end_to_end_model.predict(tf.convert_to_tensor([[\"we are talking about religion\"]], dtype=tf.string))\n",
    "class_names[np.argmax(probabilities[0])]\n"
   ]
  }
 ],
 "metadata": {
  "accelerator": "GPU",
  "colab": {
   "provenance": []
  },
  "gpuClass": "standard",
  "kernelspec": {
   "display_name": "Python 3",
   "language": "python",
   "name": "python3"
  },
  "language_info": {
   "codemirror_mode": {
    "name": "ipython",
    "version": 3
   },
   "file_extension": ".py",
   "mimetype": "text/x-python",
   "name": "python",
   "nbconvert_exporter": "python",
   "pygments_lexer": "ipython3",
   "version": "3.11.2"
  }
 },
 "nbformat": 4,
 "nbformat_minor": 1
}
